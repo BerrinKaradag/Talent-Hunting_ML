{
 "cells": [
  {
   "cell_type": "markdown",
   "id": "31859c67",
   "metadata": {
    "papermill": {
     "duration": 0.01021,
     "end_time": "2024-11-10T11:36:50.347225",
     "exception": false,
     "start_time": "2024-11-10T11:36:50.337015",
     "status": "completed"
    },
    "tags": []
   },
   "source": [
    "# Case"
   ]
  },
  {
   "cell_type": "markdown",
   "id": "c591b7ee",
   "metadata": {
    "papermill": {
     "duration": 0.009057,
     "end_time": "2024-11-10T11:36:50.366339",
     "exception": false,
     "start_time": "2024-11-10T11:36:50.357282",
     "status": "completed"
    },
    "tags": []
   },
   "source": [
    "Business Problem: Predicting which class (average, highlighted) players are according to the scores given to the characteristics of the football players watched by the Scouts."
   ]
  },
  {
   "cell_type": "code",
   "execution_count": 1,
   "id": "c990e805",
   "metadata": {
    "execution": {
     "iopub.execute_input": "2024-11-10T11:36:50.387449Z",
     "iopub.status.busy": "2024-11-10T11:36:50.386858Z",
     "iopub.status.idle": "2024-11-10T11:36:55.923513Z",
     "shell.execute_reply": "2024-11-10T11:36:55.922177Z"
    },
    "papermill": {
     "duration": 5.550663,
     "end_time": "2024-11-10T11:36:55.926398",
     "exception": false,
     "start_time": "2024-11-10T11:36:50.375735",
     "status": "completed"
    },
    "tags": []
   },
   "outputs": [],
   "source": [
    "import pandas as pd\n",
    "import seaborn as sns\n",
    "import numpy as np\n",
    "import matplotlib.pyplot as plt\n",
    "from sklearn.ensemble import RandomForestClassifier, GradientBoostingClassifier\n",
    "from sklearn.linear_model import LogisticRegression\n",
    "from sklearn.neighbors import KNeighborsClassifier\n",
    "from sklearn.tree import DecisionTreeClassifier\n",
    "from sklearn.model_selection import train_test_split, GridSearchCV, cross_validate, validation_curve\n",
    "from sklearn.metrics import precision_score, f1_score, recall_score, roc_auc_score, accuracy_score\n",
    "from sklearn.preprocessing import StandardScaler, LabelEncoder\n",
    "from xgboost import XGBClassifier\n",
    "from lightgbm import LGBMClassifier\n",
    "from catboost import CatBoostClassifier\n",
    "pd.set_option(\"display.max_columns\", None)\n",
    "pd.set_option(\"display.float_format\", lambda x: \"%.3f\" % x)\n",
    "pd.set_option(\"display.width\", 500)\n",
    "import warnings\n",
    "warnings.simplefilter(action=\"ignore\")"
   ]
  },
  {
   "cell_type": "code",
   "execution_count": 2,
   "id": "37edea5a",
   "metadata": {
    "execution": {
     "iopub.execute_input": "2024-11-10T11:36:55.948378Z",
     "iopub.status.busy": "2024-11-10T11:36:55.947551Z",
     "iopub.status.idle": "2024-11-10T11:36:55.993379Z",
     "shell.execute_reply": "2024-11-10T11:36:55.992309Z"
    },
    "papermill": {
     "duration": 0.060062,
     "end_time": "2024-11-10T11:36:55.996286",
     "exception": false,
     "start_time": "2024-11-10T11:36:55.936224",
     "status": "completed"
    },
    "tags": []
   },
   "outputs": [],
   "source": [
    "df_a=pd.read_csv(\"/kaggle/input/scoutium/scoutium_attributes.csv\", sep=\";\")\n",
    "df_p=pd.read_csv(\"/kaggle/input/scoutium/scoutium_potential_labels.csv\", sep=\";\")"
   ]
  },
  {
   "cell_type": "markdown",
   "id": "b77b0d4a",
   "metadata": {
    "papermill": {
     "duration": 0.009163,
     "end_time": "2024-11-10T11:36:56.016010",
     "exception": false,
     "start_time": "2024-11-10T11:36:56.006847",
     "status": "completed"
    },
    "tags": []
   },
   "source": [
    "# Preparing Data"
   ]
  },
  {
   "cell_type": "code",
   "execution_count": 3,
   "id": "98125d2d",
   "metadata": {
    "execution": {
     "iopub.execute_input": "2024-11-10T11:36:56.038110Z",
     "iopub.status.busy": "2024-11-10T11:36:56.037672Z",
     "iopub.status.idle": "2024-11-10T11:36:56.063229Z",
     "shell.execute_reply": "2024-11-10T11:36:56.061881Z"
    },
    "papermill": {
     "duration": 0.040127,
     "end_time": "2024-11-10T11:36:56.066109",
     "exception": false,
     "start_time": "2024-11-10T11:36:56.025982",
     "status": "completed"
    },
    "tags": []
   },
   "outputs": [
    {
     "data": {
      "text/html": [
       "<div>\n",
       "<style scoped>\n",
       "    .dataframe tbody tr th:only-of-type {\n",
       "        vertical-align: middle;\n",
       "    }\n",
       "\n",
       "    .dataframe tbody tr th {\n",
       "        vertical-align: top;\n",
       "    }\n",
       "\n",
       "    .dataframe thead th {\n",
       "        text-align: right;\n",
       "    }\n",
       "</style>\n",
       "<table border=\"1\" class=\"dataframe\">\n",
       "  <thead>\n",
       "    <tr style=\"text-align: right;\">\n",
       "      <th></th>\n",
       "      <th>task_response_id</th>\n",
       "      <th>match_id</th>\n",
       "      <th>evaluator_id</th>\n",
       "      <th>player_id</th>\n",
       "      <th>position_id</th>\n",
       "      <th>analysis_id</th>\n",
       "      <th>attribute_id</th>\n",
       "      <th>attribute_value</th>\n",
       "    </tr>\n",
       "  </thead>\n",
       "  <tbody>\n",
       "    <tr>\n",
       "      <th>0</th>\n",
       "      <td>4915</td>\n",
       "      <td>62935</td>\n",
       "      <td>177676</td>\n",
       "      <td>1361061</td>\n",
       "      <td>2</td>\n",
       "      <td>12818495</td>\n",
       "      <td>4322</td>\n",
       "      <td>56.000</td>\n",
       "    </tr>\n",
       "    <tr>\n",
       "      <th>1</th>\n",
       "      <td>4915</td>\n",
       "      <td>62935</td>\n",
       "      <td>177676</td>\n",
       "      <td>1361061</td>\n",
       "      <td>2</td>\n",
       "      <td>12818495</td>\n",
       "      <td>4323</td>\n",
       "      <td>56.000</td>\n",
       "    </tr>\n",
       "    <tr>\n",
       "      <th>2</th>\n",
       "      <td>4915</td>\n",
       "      <td>62935</td>\n",
       "      <td>177676</td>\n",
       "      <td>1361061</td>\n",
       "      <td>2</td>\n",
       "      <td>12818495</td>\n",
       "      <td>4324</td>\n",
       "      <td>67.000</td>\n",
       "    </tr>\n",
       "    <tr>\n",
       "      <th>3</th>\n",
       "      <td>4915</td>\n",
       "      <td>62935</td>\n",
       "      <td>177676</td>\n",
       "      <td>1361061</td>\n",
       "      <td>2</td>\n",
       "      <td>12818495</td>\n",
       "      <td>4325</td>\n",
       "      <td>56.000</td>\n",
       "    </tr>\n",
       "    <tr>\n",
       "      <th>4</th>\n",
       "      <td>4915</td>\n",
       "      <td>62935</td>\n",
       "      <td>177676</td>\n",
       "      <td>1361061</td>\n",
       "      <td>2</td>\n",
       "      <td>12818495</td>\n",
       "      <td>4326</td>\n",
       "      <td>45.000</td>\n",
       "    </tr>\n",
       "  </tbody>\n",
       "</table>\n",
       "</div>"
      ],
      "text/plain": [
       "   task_response_id  match_id  evaluator_id  player_id  position_id  analysis_id  attribute_id  attribute_value\n",
       "0              4915     62935        177676    1361061            2     12818495          4322           56.000\n",
       "1              4915     62935        177676    1361061            2     12818495          4323           56.000\n",
       "2              4915     62935        177676    1361061            2     12818495          4324           67.000\n",
       "3              4915     62935        177676    1361061            2     12818495          4325           56.000\n",
       "4              4915     62935        177676    1361061            2     12818495          4326           45.000"
      ]
     },
     "execution_count": 3,
     "metadata": {},
     "output_type": "execute_result"
    }
   ],
   "source": [
    "df_a.head()"
   ]
  },
  {
   "cell_type": "code",
   "execution_count": 4,
   "id": "c367cc69",
   "metadata": {
    "execution": {
     "iopub.execute_input": "2024-11-10T11:36:56.087906Z",
     "iopub.status.busy": "2024-11-10T11:36:56.087344Z",
     "iopub.status.idle": "2024-11-10T11:36:56.100824Z",
     "shell.execute_reply": "2024-11-10T11:36:56.099585Z"
    },
    "papermill": {
     "duration": 0.02732,
     "end_time": "2024-11-10T11:36:56.103514",
     "exception": false,
     "start_time": "2024-11-10T11:36:56.076194",
     "status": "completed"
    },
    "tags": []
   },
   "outputs": [
    {
     "data": {
      "text/html": [
       "<div>\n",
       "<style scoped>\n",
       "    .dataframe tbody tr th:only-of-type {\n",
       "        vertical-align: middle;\n",
       "    }\n",
       "\n",
       "    .dataframe tbody tr th {\n",
       "        vertical-align: top;\n",
       "    }\n",
       "\n",
       "    .dataframe thead th {\n",
       "        text-align: right;\n",
       "    }\n",
       "</style>\n",
       "<table border=\"1\" class=\"dataframe\">\n",
       "  <thead>\n",
       "    <tr style=\"text-align: right;\">\n",
       "      <th></th>\n",
       "      <th>task_response_id</th>\n",
       "      <th>match_id</th>\n",
       "      <th>evaluator_id</th>\n",
       "      <th>player_id</th>\n",
       "      <th>potential_label</th>\n",
       "    </tr>\n",
       "  </thead>\n",
       "  <tbody>\n",
       "    <tr>\n",
       "      <th>0</th>\n",
       "      <td>4915</td>\n",
       "      <td>62935</td>\n",
       "      <td>177676</td>\n",
       "      <td>1361061</td>\n",
       "      <td>average</td>\n",
       "    </tr>\n",
       "    <tr>\n",
       "      <th>1</th>\n",
       "      <td>4915</td>\n",
       "      <td>62935</td>\n",
       "      <td>177676</td>\n",
       "      <td>1361626</td>\n",
       "      <td>highlighted</td>\n",
       "    </tr>\n",
       "    <tr>\n",
       "      <th>2</th>\n",
       "      <td>4915</td>\n",
       "      <td>62935</td>\n",
       "      <td>177676</td>\n",
       "      <td>1361858</td>\n",
       "      <td>average</td>\n",
       "    </tr>\n",
       "    <tr>\n",
       "      <th>3</th>\n",
       "      <td>4915</td>\n",
       "      <td>62935</td>\n",
       "      <td>177676</td>\n",
       "      <td>1362220</td>\n",
       "      <td>highlighted</td>\n",
       "    </tr>\n",
       "    <tr>\n",
       "      <th>4</th>\n",
       "      <td>4915</td>\n",
       "      <td>62935</td>\n",
       "      <td>177676</td>\n",
       "      <td>1364951</td>\n",
       "      <td>highlighted</td>\n",
       "    </tr>\n",
       "  </tbody>\n",
       "</table>\n",
       "</div>"
      ],
      "text/plain": [
       "   task_response_id  match_id  evaluator_id  player_id potential_label\n",
       "0              4915     62935        177676    1361061         average\n",
       "1              4915     62935        177676    1361626     highlighted\n",
       "2              4915     62935        177676    1361858         average\n",
       "3              4915     62935        177676    1362220     highlighted\n",
       "4              4915     62935        177676    1364951     highlighted"
      ]
     },
     "execution_count": 4,
     "metadata": {},
     "output_type": "execute_result"
    }
   ],
   "source": [
    "df_p.head()"
   ]
  },
  {
   "cell_type": "code",
   "execution_count": 5,
   "id": "58e53ded",
   "metadata": {
    "execution": {
     "iopub.execute_input": "2024-11-10T11:36:56.125898Z",
     "iopub.status.busy": "2024-11-10T11:36:56.125450Z",
     "iopub.status.idle": "2024-11-10T11:36:56.165668Z",
     "shell.execute_reply": "2024-11-10T11:36:56.164372Z"
    },
    "papermill": {
     "duration": 0.054727,
     "end_time": "2024-11-10T11:36:56.168474",
     "exception": false,
     "start_time": "2024-11-10T11:36:56.113747",
     "status": "completed"
    },
    "tags": []
   },
   "outputs": [
    {
     "data": {
      "text/html": [
       "<div>\n",
       "<style scoped>\n",
       "    .dataframe tbody tr th:only-of-type {\n",
       "        vertical-align: middle;\n",
       "    }\n",
       "\n",
       "    .dataframe tbody tr th {\n",
       "        vertical-align: top;\n",
       "    }\n",
       "\n",
       "    .dataframe thead th {\n",
       "        text-align: right;\n",
       "    }\n",
       "</style>\n",
       "<table border=\"1\" class=\"dataframe\">\n",
       "  <thead>\n",
       "    <tr style=\"text-align: right;\">\n",
       "      <th></th>\n",
       "      <th>task_response_id</th>\n",
       "      <th>match_id</th>\n",
       "      <th>evaluator_id</th>\n",
       "      <th>player_id</th>\n",
       "      <th>position_id</th>\n",
       "      <th>analysis_id</th>\n",
       "      <th>attribute_id</th>\n",
       "      <th>attribute_value</th>\n",
       "      <th>potential_label</th>\n",
       "    </tr>\n",
       "  </thead>\n",
       "  <tbody>\n",
       "    <tr>\n",
       "      <th>0</th>\n",
       "      <td>4915</td>\n",
       "      <td>62935</td>\n",
       "      <td>177676</td>\n",
       "      <td>1361061</td>\n",
       "      <td>2</td>\n",
       "      <td>12818495</td>\n",
       "      <td>4322</td>\n",
       "      <td>56.000</td>\n",
       "      <td>average</td>\n",
       "    </tr>\n",
       "    <tr>\n",
       "      <th>1</th>\n",
       "      <td>4915</td>\n",
       "      <td>62935</td>\n",
       "      <td>177676</td>\n",
       "      <td>1361061</td>\n",
       "      <td>2</td>\n",
       "      <td>12818495</td>\n",
       "      <td>4323</td>\n",
       "      <td>56.000</td>\n",
       "      <td>average</td>\n",
       "    </tr>\n",
       "    <tr>\n",
       "      <th>2</th>\n",
       "      <td>4915</td>\n",
       "      <td>62935</td>\n",
       "      <td>177676</td>\n",
       "      <td>1361061</td>\n",
       "      <td>2</td>\n",
       "      <td>12818495</td>\n",
       "      <td>4324</td>\n",
       "      <td>67.000</td>\n",
       "      <td>average</td>\n",
       "    </tr>\n",
       "    <tr>\n",
       "      <th>3</th>\n",
       "      <td>4915</td>\n",
       "      <td>62935</td>\n",
       "      <td>177676</td>\n",
       "      <td>1361061</td>\n",
       "      <td>2</td>\n",
       "      <td>12818495</td>\n",
       "      <td>4325</td>\n",
       "      <td>56.000</td>\n",
       "      <td>average</td>\n",
       "    </tr>\n",
       "    <tr>\n",
       "      <th>4</th>\n",
       "      <td>4915</td>\n",
       "      <td>62935</td>\n",
       "      <td>177676</td>\n",
       "      <td>1361061</td>\n",
       "      <td>2</td>\n",
       "      <td>12818495</td>\n",
       "      <td>4326</td>\n",
       "      <td>45.000</td>\n",
       "      <td>average</td>\n",
       "    </tr>\n",
       "  </tbody>\n",
       "</table>\n",
       "</div>"
      ],
      "text/plain": [
       "   task_response_id  match_id  evaluator_id  player_id  position_id  analysis_id  attribute_id  attribute_value potential_label\n",
       "0              4915     62935        177676    1361061            2     12818495          4322           56.000         average\n",
       "1              4915     62935        177676    1361061            2     12818495          4323           56.000         average\n",
       "2              4915     62935        177676    1361061            2     12818495          4324           67.000         average\n",
       "3              4915     62935        177676    1361061            2     12818495          4325           56.000         average\n",
       "4              4915     62935        177676    1361061            2     12818495          4326           45.000         average"
      ]
     },
     "execution_count": 5,
     "metadata": {},
     "output_type": "execute_result"
    }
   ],
   "source": [
    "df=pd.merge(df_a, df_p, on=[\"task_response_id\", 'match_id', 'evaluator_id', \"player_id\"])\n",
    "df.head()"
   ]
  },
  {
   "cell_type": "code",
   "execution_count": 6,
   "id": "88095106",
   "metadata": {
    "execution": {
     "iopub.execute_input": "2024-11-10T11:36:56.191136Z",
     "iopub.status.busy": "2024-11-10T11:36:56.190669Z",
     "iopub.status.idle": "2024-11-10T11:36:56.216063Z",
     "shell.execute_reply": "2024-11-10T11:36:56.214714Z"
    },
    "papermill": {
     "duration": 0.040355,
     "end_time": "2024-11-10T11:36:56.219280",
     "exception": false,
     "start_time": "2024-11-10T11:36:56.178925",
     "status": "completed"
    },
    "tags": []
   },
   "outputs": [
    {
     "name": "stdout",
     "output_type": "stream",
     "text": [
      "##################### Shape #####################\n",
      "(10730, 9)\n",
      "##################### Types #####################\n",
      "task_response_id      int64\n",
      "match_id              int64\n",
      "evaluator_id          int64\n",
      "player_id             int64\n",
      "position_id           int64\n",
      "analysis_id           int64\n",
      "attribute_id          int64\n",
      "attribute_value     float64\n",
      "potential_label      object\n",
      "dtype: object\n",
      "##################### Duplicated Values #####################\n",
      "0\n",
      "##################### Missing Values #####################\n",
      "task_response_id    0\n",
      "match_id            0\n",
      "evaluator_id        0\n",
      "player_id           0\n",
      "position_id         0\n",
      "analysis_id         0\n",
      "attribute_id        0\n",
      "attribute_value     0\n",
      "potential_label     0\n",
      "dtype: int64\n",
      "##################### Number of Unique Values #####################\n",
      "task_response_id     29\n",
      "match_id             17\n",
      "evaluator_id         10\n",
      "player_id           277\n",
      "position_id          10\n",
      "analysis_id         323\n",
      "attribute_id         39\n",
      "attribute_value      10\n",
      "potential_label       3\n",
      "dtype: int64\n"
     ]
    }
   ],
   "source": [
    "def check_df(dataframe, head=5):\n",
    "    print(\"##################### Shape #####################\")\n",
    "    print(dataframe.shape)\n",
    "    print(\"##################### Types #####################\")\n",
    "    print(dataframe.dtypes)\n",
    "    print(\"##################### Duplicated Values #####################\")\n",
    "    print(dataframe.duplicated().sum())\n",
    "    print(\"##################### Missing Values #####################\")\n",
    "    print(dataframe.isnull().sum())\n",
    "    print(\"##################### Number of Unique Values #####################\")\n",
    "    print(df.nunique())\n",
    "    \n",
    "check_df(df)"
   ]
  },
  {
   "cell_type": "code",
   "execution_count": 7,
   "id": "fd397d11",
   "metadata": {
    "execution": {
     "iopub.execute_input": "2024-11-10T11:36:56.242049Z",
     "iopub.status.busy": "2024-11-10T11:36:56.241561Z",
     "iopub.status.idle": "2024-11-10T11:36:56.253857Z",
     "shell.execute_reply": "2024-11-10T11:36:56.252687Z"
    },
    "papermill": {
     "duration": 0.02682,
     "end_time": "2024-11-10T11:36:56.256562",
     "exception": false,
     "start_time": "2024-11-10T11:36:56.229742",
     "status": "completed"
    },
    "tags": []
   },
   "outputs": [
    {
     "data": {
      "text/plain": [
       "9"
      ]
     },
     "execution_count": 7,
     "metadata": {},
     "output_type": "execute_result"
    }
   ],
   "source": [
    "df=df[df[\"position_id\"]!=1]\n",
    "df[\"position_id\"].nunique()"
   ]
  },
  {
   "cell_type": "code",
   "execution_count": 8,
   "id": "95f68915",
   "metadata": {
    "execution": {
     "iopub.execute_input": "2024-11-10T11:36:56.279729Z",
     "iopub.status.busy": "2024-11-10T11:36:56.279259Z",
     "iopub.status.idle": "2024-11-10T11:36:56.292805Z",
     "shell.execute_reply": "2024-11-10T11:36:56.291518Z"
    },
    "papermill": {
     "duration": 0.028309,
     "end_time": "2024-11-10T11:36:56.295602",
     "exception": false,
     "start_time": "2024-11-10T11:36:56.267293",
     "status": "completed"
    },
    "tags": []
   },
   "outputs": [
    {
     "data": {
      "text/plain": [
       "2"
      ]
     },
     "execution_count": 8,
     "metadata": {},
     "output_type": "execute_result"
    }
   ],
   "source": [
    "df=df[df[\"potential_label\"]!= \"below_average\"]\n",
    "df[\"potential_label\"].nunique()"
   ]
  },
  {
   "cell_type": "code",
   "execution_count": 9,
   "id": "1562e4ee",
   "metadata": {
    "execution": {
     "iopub.execute_input": "2024-11-10T11:36:56.319127Z",
     "iopub.status.busy": "2024-11-10T11:36:56.318650Z",
     "iopub.status.idle": "2024-11-10T11:36:56.374966Z",
     "shell.execute_reply": "2024-11-10T11:36:56.373777Z"
    },
    "papermill": {
     "duration": 0.071332,
     "end_time": "2024-11-10T11:36:56.377740",
     "exception": false,
     "start_time": "2024-11-10T11:36:56.306408",
     "status": "completed"
    },
    "tags": []
   },
   "outputs": [
    {
     "data": {
      "text/html": [
       "<div>\n",
       "<style scoped>\n",
       "    .dataframe tbody tr th:only-of-type {\n",
       "        vertical-align: middle;\n",
       "    }\n",
       "\n",
       "    .dataframe tbody tr th {\n",
       "        vertical-align: top;\n",
       "    }\n",
       "\n",
       "    .dataframe thead th {\n",
       "        text-align: right;\n",
       "    }\n",
       "</style>\n",
       "<table border=\"1\" class=\"dataframe\">\n",
       "  <thead>\n",
       "    <tr style=\"text-align: right;\">\n",
       "      <th>attribute_id</th>\n",
       "      <th>player_id</th>\n",
       "      <th>position_id</th>\n",
       "      <th>potential_label</th>\n",
       "      <th>4322</th>\n",
       "      <th>4323</th>\n",
       "      <th>4324</th>\n",
       "      <th>4325</th>\n",
       "      <th>4326</th>\n",
       "      <th>4327</th>\n",
       "      <th>4328</th>\n",
       "      <th>4329</th>\n",
       "      <th>4330</th>\n",
       "      <th>4332</th>\n",
       "      <th>4333</th>\n",
       "      <th>4335</th>\n",
       "      <th>4338</th>\n",
       "      <th>4339</th>\n",
       "      <th>4340</th>\n",
       "      <th>4341</th>\n",
       "      <th>4342</th>\n",
       "      <th>4343</th>\n",
       "      <th>4344</th>\n",
       "      <th>4345</th>\n",
       "      <th>4348</th>\n",
       "      <th>4349</th>\n",
       "      <th>4350</th>\n",
       "      <th>4351</th>\n",
       "      <th>4352</th>\n",
       "      <th>4353</th>\n",
       "      <th>4354</th>\n",
       "      <th>4355</th>\n",
       "      <th>4356</th>\n",
       "      <th>4357</th>\n",
       "      <th>4407</th>\n",
       "      <th>4408</th>\n",
       "      <th>4423</th>\n",
       "      <th>4426</th>\n",
       "    </tr>\n",
       "  </thead>\n",
       "  <tbody>\n",
       "    <tr>\n",
       "      <th>0</th>\n",
       "      <td>1355710</td>\n",
       "      <td>7</td>\n",
       "      <td>average</td>\n",
       "      <td>50.500</td>\n",
       "      <td>50.500</td>\n",
       "      <td>34.000</td>\n",
       "      <td>50.500</td>\n",
       "      <td>45.000</td>\n",
       "      <td>45.000</td>\n",
       "      <td>45.000</td>\n",
       "      <td>45.000</td>\n",
       "      <td>50.500</td>\n",
       "      <td>56.000</td>\n",
       "      <td>39.500</td>\n",
       "      <td>34.000</td>\n",
       "      <td>39.500</td>\n",
       "      <td>39.500</td>\n",
       "      <td>45.000</td>\n",
       "      <td>45.000</td>\n",
       "      <td>50.500</td>\n",
       "      <td>28.500</td>\n",
       "      <td>23.000</td>\n",
       "      <td>39.500</td>\n",
       "      <td>28.500</td>\n",
       "      <td>28.500</td>\n",
       "      <td>45.000</td>\n",
       "      <td>50.500</td>\n",
       "      <td>56.000</td>\n",
       "      <td>34.000</td>\n",
       "      <td>39.500</td>\n",
       "      <td>50.500</td>\n",
       "      <td>34.000</td>\n",
       "      <td>34.000</td>\n",
       "      <td>56.000</td>\n",
       "      <td>34.000</td>\n",
       "      <td>34.000</td>\n",
       "      <td>56.000</td>\n",
       "    </tr>\n",
       "    <tr>\n",
       "      <th>1</th>\n",
       "      <td>1356362</td>\n",
       "      <td>9</td>\n",
       "      <td>average</td>\n",
       "      <td>67.000</td>\n",
       "      <td>67.000</td>\n",
       "      <td>67.000</td>\n",
       "      <td>67.000</td>\n",
       "      <td>67.000</td>\n",
       "      <td>67.000</td>\n",
       "      <td>67.000</td>\n",
       "      <td>67.000</td>\n",
       "      <td>67.000</td>\n",
       "      <td>67.000</td>\n",
       "      <td>67.000</td>\n",
       "      <td>67.000</td>\n",
       "      <td>67.000</td>\n",
       "      <td>67.000</td>\n",
       "      <td>67.000</td>\n",
       "      <td>67.000</td>\n",
       "      <td>67.000</td>\n",
       "      <td>67.000</td>\n",
       "      <td>56.000</td>\n",
       "      <td>67.000</td>\n",
       "      <td>67.000</td>\n",
       "      <td>56.000</td>\n",
       "      <td>67.000</td>\n",
       "      <td>67.000</td>\n",
       "      <td>67.000</td>\n",
       "      <td>67.000</td>\n",
       "      <td>78.000</td>\n",
       "      <td>67.000</td>\n",
       "      <td>67.000</td>\n",
       "      <td>67.000</td>\n",
       "      <td>67.000</td>\n",
       "      <td>67.000</td>\n",
       "      <td>56.000</td>\n",
       "      <td>78.000</td>\n",
       "    </tr>\n",
       "    <tr>\n",
       "      <th>2</th>\n",
       "      <td>1356375</td>\n",
       "      <td>3</td>\n",
       "      <td>average</td>\n",
       "      <td>67.000</td>\n",
       "      <td>67.000</td>\n",
       "      <td>67.000</td>\n",
       "      <td>67.000</td>\n",
       "      <td>67.000</td>\n",
       "      <td>67.000</td>\n",
       "      <td>67.000</td>\n",
       "      <td>78.000</td>\n",
       "      <td>67.000</td>\n",
       "      <td>67.000</td>\n",
       "      <td>78.000</td>\n",
       "      <td>56.000</td>\n",
       "      <td>67.000</td>\n",
       "      <td>67.000</td>\n",
       "      <td>67.000</td>\n",
       "      <td>67.000</td>\n",
       "      <td>67.000</td>\n",
       "      <td>56.000</td>\n",
       "      <td>56.000</td>\n",
       "      <td>67.000</td>\n",
       "      <td>67.000</td>\n",
       "      <td>56.000</td>\n",
       "      <td>56.000</td>\n",
       "      <td>67.000</td>\n",
       "      <td>67.000</td>\n",
       "      <td>67.000</td>\n",
       "      <td>78.000</td>\n",
       "      <td>67.000</td>\n",
       "      <td>67.000</td>\n",
       "      <td>67.000</td>\n",
       "      <td>67.000</td>\n",
       "      <td>67.000</td>\n",
       "      <td>56.000</td>\n",
       "      <td>78.000</td>\n",
       "    </tr>\n",
       "    <tr>\n",
       "      <th>3</th>\n",
       "      <td>1356375</td>\n",
       "      <td>4</td>\n",
       "      <td>average</td>\n",
       "      <td>67.000</td>\n",
       "      <td>78.000</td>\n",
       "      <td>67.000</td>\n",
       "      <td>67.000</td>\n",
       "      <td>67.000</td>\n",
       "      <td>78.000</td>\n",
       "      <td>78.000</td>\n",
       "      <td>78.000</td>\n",
       "      <td>56.000</td>\n",
       "      <td>67.000</td>\n",
       "      <td>67.000</td>\n",
       "      <td>67.000</td>\n",
       "      <td>78.000</td>\n",
       "      <td>78.000</td>\n",
       "      <td>56.000</td>\n",
       "      <td>67.000</td>\n",
       "      <td>67.000</td>\n",
       "      <td>45.000</td>\n",
       "      <td>45.000</td>\n",
       "      <td>56.000</td>\n",
       "      <td>67.000</td>\n",
       "      <td>67.000</td>\n",
       "      <td>67.000</td>\n",
       "      <td>67.000</td>\n",
       "      <td>78.000</td>\n",
       "      <td>67.000</td>\n",
       "      <td>67.000</td>\n",
       "      <td>67.000</td>\n",
       "      <td>56.000</td>\n",
       "      <td>67.000</td>\n",
       "      <td>56.000</td>\n",
       "      <td>67.000</td>\n",
       "      <td>45.000</td>\n",
       "      <td>56.000</td>\n",
       "    </tr>\n",
       "    <tr>\n",
       "      <th>4</th>\n",
       "      <td>1356411</td>\n",
       "      <td>9</td>\n",
       "      <td>average</td>\n",
       "      <td>67.000</td>\n",
       "      <td>67.000</td>\n",
       "      <td>78.000</td>\n",
       "      <td>78.000</td>\n",
       "      <td>67.000</td>\n",
       "      <td>67.000</td>\n",
       "      <td>67.000</td>\n",
       "      <td>67.000</td>\n",
       "      <td>89.000</td>\n",
       "      <td>78.000</td>\n",
       "      <td>67.000</td>\n",
       "      <td>67.000</td>\n",
       "      <td>67.000</td>\n",
       "      <td>56.000</td>\n",
       "      <td>56.000</td>\n",
       "      <td>67.000</td>\n",
       "      <td>78.000</td>\n",
       "      <td>56.000</td>\n",
       "      <td>56.000</td>\n",
       "      <td>67.000</td>\n",
       "      <td>56.000</td>\n",
       "      <td>67.000</td>\n",
       "      <td>56.000</td>\n",
       "      <td>67.000</td>\n",
       "      <td>67.000</td>\n",
       "      <td>56.000</td>\n",
       "      <td>67.000</td>\n",
       "      <td>67.000</td>\n",
       "      <td>56.000</td>\n",
       "      <td>67.000</td>\n",
       "      <td>89.000</td>\n",
       "      <td>56.000</td>\n",
       "      <td>67.000</td>\n",
       "      <td>78.000</td>\n",
       "    </tr>\n",
       "  </tbody>\n",
       "</table>\n",
       "</div>"
      ],
      "text/plain": [
       "attribute_id  player_id  position_id potential_label   4322   4323   4324   4325   4326   4327   4328   4329   4330   4332   4333   4335   4338   4339   4340   4341   4342   4343   4344   4345   4348   4349   4350   4351   4352   4353   4354   4355   4356   4357   4407   4408   4423   4426\n",
       "0               1355710            7         average 50.500 50.500 34.000 50.500 45.000 45.000 45.000 45.000 50.500 56.000 39.500 34.000 39.500 39.500 45.000 45.000 50.500 28.500 23.000 39.500 28.500 28.500 45.000 50.500 56.000 34.000 39.500 50.500 34.000 34.000 56.000 34.000 34.000 56.000\n",
       "1               1356362            9         average 67.000 67.000 67.000 67.000 67.000 67.000 67.000 67.000 67.000 67.000 67.000 67.000 67.000 67.000 67.000 67.000 67.000 67.000 56.000 67.000 67.000 56.000 67.000 67.000 67.000 67.000 78.000 67.000 67.000 67.000 67.000 67.000 56.000 78.000\n",
       "2               1356375            3         average 67.000 67.000 67.000 67.000 67.000 67.000 67.000 78.000 67.000 67.000 78.000 56.000 67.000 67.000 67.000 67.000 67.000 56.000 56.000 67.000 67.000 56.000 56.000 67.000 67.000 67.000 78.000 67.000 67.000 67.000 67.000 67.000 56.000 78.000\n",
       "3               1356375            4         average 67.000 78.000 67.000 67.000 67.000 78.000 78.000 78.000 56.000 67.000 67.000 67.000 78.000 78.000 56.000 67.000 67.000 45.000 45.000 56.000 67.000 67.000 67.000 67.000 78.000 67.000 67.000 67.000 56.000 67.000 56.000 67.000 45.000 56.000\n",
       "4               1356411            9         average 67.000 67.000 78.000 78.000 67.000 67.000 67.000 67.000 89.000 78.000 67.000 67.000 67.000 56.000 56.000 67.000 78.000 56.000 56.000 67.000 56.000 67.000 56.000 67.000 67.000 56.000 67.000 67.000 56.000 67.000 89.000 56.000 67.000 78.000"
      ]
     },
     "execution_count": 9,
     "metadata": {},
     "output_type": "execute_result"
    }
   ],
   "source": [
    "df_pivoted=df.pivot_table(index=[\"player_id\",\"position_id\",\"potential_label\"],\n",
    "                 columns=\"attribute_id\",\n",
    "                 values=\"attribute_value\")\n",
    "df_pivoted.reset_index(inplace=True)\n",
    "df_pivoted.columns=df_pivoted.columns.astype(str)\n",
    "df_pivoted.head()"
   ]
  },
  {
   "cell_type": "code",
   "execution_count": 10,
   "id": "48c8c4da",
   "metadata": {
    "execution": {
     "iopub.execute_input": "2024-11-10T11:36:56.402239Z",
     "iopub.status.busy": "2024-11-10T11:36:56.401716Z",
     "iopub.status.idle": "2024-11-10T11:36:56.408568Z",
     "shell.execute_reply": "2024-11-10T11:36:56.407393Z"
    },
    "papermill": {
     "duration": 0.022423,
     "end_time": "2024-11-10T11:36:56.411506",
     "exception": false,
     "start_time": "2024-11-10T11:36:56.389083",
     "status": "completed"
    },
    "tags": []
   },
   "outputs": [
    {
     "name": "stdout",
     "output_type": "stream",
     "text": [
      "['4322', '4323', '4324', '4325', '4326', '4327', '4328', '4329', '4330', '4332', '4333', '4335', '4338', '4339', '4340', '4341', '4342', '4343', '4344', '4345', '4348', '4349', '4350', '4351', '4352', '4353', '4354', '4355', '4356', '4357', '4407', '4408', '4423', '4426']\n"
     ]
    }
   ],
   "source": [
    "num_cols= [col for col in df_pivoted.columns if col not in [\"attribute_id\", \"player_id\",\"position_id\", \"potential_label\"]]\n",
    "print(num_cols)"
   ]
  },
  {
   "cell_type": "markdown",
   "id": "d030dd70",
   "metadata": {
    "papermill": {
     "duration": 0.010967,
     "end_time": "2024-11-10T11:36:56.433999",
     "exception": false,
     "start_time": "2024-11-10T11:36:56.423032",
     "status": "completed"
    },
    "tags": []
   },
   "source": [
    "# Label Encoding"
   ]
  },
  {
   "cell_type": "code",
   "execution_count": 11,
   "id": "99aff22e",
   "metadata": {
    "execution": {
     "iopub.execute_input": "2024-11-10T11:36:56.461616Z",
     "iopub.status.busy": "2024-11-10T11:36:56.458353Z",
     "iopub.status.idle": "2024-11-10T11:36:56.489405Z",
     "shell.execute_reply": "2024-11-10T11:36:56.488155Z"
    },
    "papermill": {
     "duration": 0.046916,
     "end_time": "2024-11-10T11:36:56.492232",
     "exception": false,
     "start_time": "2024-11-10T11:36:56.445316",
     "status": "completed"
    },
    "tags": []
   },
   "outputs": [
    {
     "data": {
      "text/html": [
       "<div>\n",
       "<style scoped>\n",
       "    .dataframe tbody tr th:only-of-type {\n",
       "        vertical-align: middle;\n",
       "    }\n",
       "\n",
       "    .dataframe tbody tr th {\n",
       "        vertical-align: top;\n",
       "    }\n",
       "\n",
       "    .dataframe thead th {\n",
       "        text-align: right;\n",
       "    }\n",
       "</style>\n",
       "<table border=\"1\" class=\"dataframe\">\n",
       "  <thead>\n",
       "    <tr style=\"text-align: right;\">\n",
       "      <th>attribute_id</th>\n",
       "      <th>player_id</th>\n",
       "      <th>position_id</th>\n",
       "      <th>potential_label</th>\n",
       "      <th>4322</th>\n",
       "      <th>4323</th>\n",
       "      <th>4324</th>\n",
       "      <th>4325</th>\n",
       "      <th>4326</th>\n",
       "      <th>4327</th>\n",
       "      <th>4328</th>\n",
       "      <th>4329</th>\n",
       "      <th>4330</th>\n",
       "      <th>4332</th>\n",
       "      <th>4333</th>\n",
       "      <th>4335</th>\n",
       "      <th>4338</th>\n",
       "      <th>4339</th>\n",
       "      <th>4340</th>\n",
       "      <th>4341</th>\n",
       "      <th>4342</th>\n",
       "      <th>4343</th>\n",
       "      <th>4344</th>\n",
       "      <th>4345</th>\n",
       "      <th>4348</th>\n",
       "      <th>4349</th>\n",
       "      <th>4350</th>\n",
       "      <th>4351</th>\n",
       "      <th>4352</th>\n",
       "      <th>4353</th>\n",
       "      <th>4354</th>\n",
       "      <th>4355</th>\n",
       "      <th>4356</th>\n",
       "      <th>4357</th>\n",
       "      <th>4407</th>\n",
       "      <th>4408</th>\n",
       "      <th>4423</th>\n",
       "      <th>4426</th>\n",
       "    </tr>\n",
       "  </thead>\n",
       "  <tbody>\n",
       "    <tr>\n",
       "      <th>0</th>\n",
       "      <td>1355710</td>\n",
       "      <td>7</td>\n",
       "      <td>0</td>\n",
       "      <td>50.500</td>\n",
       "      <td>50.500</td>\n",
       "      <td>34.000</td>\n",
       "      <td>50.500</td>\n",
       "      <td>45.000</td>\n",
       "      <td>45.000</td>\n",
       "      <td>45.000</td>\n",
       "      <td>45.000</td>\n",
       "      <td>50.500</td>\n",
       "      <td>56.000</td>\n",
       "      <td>39.500</td>\n",
       "      <td>34.000</td>\n",
       "      <td>39.500</td>\n",
       "      <td>39.500</td>\n",
       "      <td>45.000</td>\n",
       "      <td>45.000</td>\n",
       "      <td>50.500</td>\n",
       "      <td>28.500</td>\n",
       "      <td>23.000</td>\n",
       "      <td>39.500</td>\n",
       "      <td>28.500</td>\n",
       "      <td>28.500</td>\n",
       "      <td>45.000</td>\n",
       "      <td>50.500</td>\n",
       "      <td>56.000</td>\n",
       "      <td>34.000</td>\n",
       "      <td>39.500</td>\n",
       "      <td>50.500</td>\n",
       "      <td>34.000</td>\n",
       "      <td>34.000</td>\n",
       "      <td>56.000</td>\n",
       "      <td>34.000</td>\n",
       "      <td>34.000</td>\n",
       "      <td>56.000</td>\n",
       "    </tr>\n",
       "    <tr>\n",
       "      <th>1</th>\n",
       "      <td>1356362</td>\n",
       "      <td>9</td>\n",
       "      <td>0</td>\n",
       "      <td>67.000</td>\n",
       "      <td>67.000</td>\n",
       "      <td>67.000</td>\n",
       "      <td>67.000</td>\n",
       "      <td>67.000</td>\n",
       "      <td>67.000</td>\n",
       "      <td>67.000</td>\n",
       "      <td>67.000</td>\n",
       "      <td>67.000</td>\n",
       "      <td>67.000</td>\n",
       "      <td>67.000</td>\n",
       "      <td>67.000</td>\n",
       "      <td>67.000</td>\n",
       "      <td>67.000</td>\n",
       "      <td>67.000</td>\n",
       "      <td>67.000</td>\n",
       "      <td>67.000</td>\n",
       "      <td>67.000</td>\n",
       "      <td>56.000</td>\n",
       "      <td>67.000</td>\n",
       "      <td>67.000</td>\n",
       "      <td>56.000</td>\n",
       "      <td>67.000</td>\n",
       "      <td>67.000</td>\n",
       "      <td>67.000</td>\n",
       "      <td>67.000</td>\n",
       "      <td>78.000</td>\n",
       "      <td>67.000</td>\n",
       "      <td>67.000</td>\n",
       "      <td>67.000</td>\n",
       "      <td>67.000</td>\n",
       "      <td>67.000</td>\n",
       "      <td>56.000</td>\n",
       "      <td>78.000</td>\n",
       "    </tr>\n",
       "    <tr>\n",
       "      <th>2</th>\n",
       "      <td>1356375</td>\n",
       "      <td>3</td>\n",
       "      <td>0</td>\n",
       "      <td>67.000</td>\n",
       "      <td>67.000</td>\n",
       "      <td>67.000</td>\n",
       "      <td>67.000</td>\n",
       "      <td>67.000</td>\n",
       "      <td>67.000</td>\n",
       "      <td>67.000</td>\n",
       "      <td>78.000</td>\n",
       "      <td>67.000</td>\n",
       "      <td>67.000</td>\n",
       "      <td>78.000</td>\n",
       "      <td>56.000</td>\n",
       "      <td>67.000</td>\n",
       "      <td>67.000</td>\n",
       "      <td>67.000</td>\n",
       "      <td>67.000</td>\n",
       "      <td>67.000</td>\n",
       "      <td>56.000</td>\n",
       "      <td>56.000</td>\n",
       "      <td>67.000</td>\n",
       "      <td>67.000</td>\n",
       "      <td>56.000</td>\n",
       "      <td>56.000</td>\n",
       "      <td>67.000</td>\n",
       "      <td>67.000</td>\n",
       "      <td>67.000</td>\n",
       "      <td>78.000</td>\n",
       "      <td>67.000</td>\n",
       "      <td>67.000</td>\n",
       "      <td>67.000</td>\n",
       "      <td>67.000</td>\n",
       "      <td>67.000</td>\n",
       "      <td>56.000</td>\n",
       "      <td>78.000</td>\n",
       "    </tr>\n",
       "    <tr>\n",
       "      <th>3</th>\n",
       "      <td>1356375</td>\n",
       "      <td>4</td>\n",
       "      <td>0</td>\n",
       "      <td>67.000</td>\n",
       "      <td>78.000</td>\n",
       "      <td>67.000</td>\n",
       "      <td>67.000</td>\n",
       "      <td>67.000</td>\n",
       "      <td>78.000</td>\n",
       "      <td>78.000</td>\n",
       "      <td>78.000</td>\n",
       "      <td>56.000</td>\n",
       "      <td>67.000</td>\n",
       "      <td>67.000</td>\n",
       "      <td>67.000</td>\n",
       "      <td>78.000</td>\n",
       "      <td>78.000</td>\n",
       "      <td>56.000</td>\n",
       "      <td>67.000</td>\n",
       "      <td>67.000</td>\n",
       "      <td>45.000</td>\n",
       "      <td>45.000</td>\n",
       "      <td>56.000</td>\n",
       "      <td>67.000</td>\n",
       "      <td>67.000</td>\n",
       "      <td>67.000</td>\n",
       "      <td>67.000</td>\n",
       "      <td>78.000</td>\n",
       "      <td>67.000</td>\n",
       "      <td>67.000</td>\n",
       "      <td>67.000</td>\n",
       "      <td>56.000</td>\n",
       "      <td>67.000</td>\n",
       "      <td>56.000</td>\n",
       "      <td>67.000</td>\n",
       "      <td>45.000</td>\n",
       "      <td>56.000</td>\n",
       "    </tr>\n",
       "    <tr>\n",
       "      <th>4</th>\n",
       "      <td>1356411</td>\n",
       "      <td>9</td>\n",
       "      <td>0</td>\n",
       "      <td>67.000</td>\n",
       "      <td>67.000</td>\n",
       "      <td>78.000</td>\n",
       "      <td>78.000</td>\n",
       "      <td>67.000</td>\n",
       "      <td>67.000</td>\n",
       "      <td>67.000</td>\n",
       "      <td>67.000</td>\n",
       "      <td>89.000</td>\n",
       "      <td>78.000</td>\n",
       "      <td>67.000</td>\n",
       "      <td>67.000</td>\n",
       "      <td>67.000</td>\n",
       "      <td>56.000</td>\n",
       "      <td>56.000</td>\n",
       "      <td>67.000</td>\n",
       "      <td>78.000</td>\n",
       "      <td>56.000</td>\n",
       "      <td>56.000</td>\n",
       "      <td>67.000</td>\n",
       "      <td>56.000</td>\n",
       "      <td>67.000</td>\n",
       "      <td>56.000</td>\n",
       "      <td>67.000</td>\n",
       "      <td>67.000</td>\n",
       "      <td>56.000</td>\n",
       "      <td>67.000</td>\n",
       "      <td>67.000</td>\n",
       "      <td>56.000</td>\n",
       "      <td>67.000</td>\n",
       "      <td>89.000</td>\n",
       "      <td>56.000</td>\n",
       "      <td>67.000</td>\n",
       "      <td>78.000</td>\n",
       "    </tr>\n",
       "  </tbody>\n",
       "</table>\n",
       "</div>"
      ],
      "text/plain": [
       "attribute_id  player_id  position_id  potential_label   4322   4323   4324   4325   4326   4327   4328   4329   4330   4332   4333   4335   4338   4339   4340   4341   4342   4343   4344   4345   4348   4349   4350   4351   4352   4353   4354   4355   4356   4357   4407   4408   4423   4426\n",
       "0               1355710            7                0 50.500 50.500 34.000 50.500 45.000 45.000 45.000 45.000 50.500 56.000 39.500 34.000 39.500 39.500 45.000 45.000 50.500 28.500 23.000 39.500 28.500 28.500 45.000 50.500 56.000 34.000 39.500 50.500 34.000 34.000 56.000 34.000 34.000 56.000\n",
       "1               1356362            9                0 67.000 67.000 67.000 67.000 67.000 67.000 67.000 67.000 67.000 67.000 67.000 67.000 67.000 67.000 67.000 67.000 67.000 67.000 56.000 67.000 67.000 56.000 67.000 67.000 67.000 67.000 78.000 67.000 67.000 67.000 67.000 67.000 56.000 78.000\n",
       "2               1356375            3                0 67.000 67.000 67.000 67.000 67.000 67.000 67.000 78.000 67.000 67.000 78.000 56.000 67.000 67.000 67.000 67.000 67.000 56.000 56.000 67.000 67.000 56.000 56.000 67.000 67.000 67.000 78.000 67.000 67.000 67.000 67.000 67.000 56.000 78.000\n",
       "3               1356375            4                0 67.000 78.000 67.000 67.000 67.000 78.000 78.000 78.000 56.000 67.000 67.000 67.000 78.000 78.000 56.000 67.000 67.000 45.000 45.000 56.000 67.000 67.000 67.000 67.000 78.000 67.000 67.000 67.000 56.000 67.000 56.000 67.000 45.000 56.000\n",
       "4               1356411            9                0 67.000 67.000 78.000 78.000 67.000 67.000 67.000 67.000 89.000 78.000 67.000 67.000 67.000 56.000 56.000 67.000 78.000 56.000 56.000 67.000 56.000 67.000 56.000 67.000 67.000 56.000 67.000 67.000 56.000 67.000 89.000 56.000 67.000 78.000"
      ]
     },
     "execution_count": 11,
     "metadata": {},
     "output_type": "execute_result"
    }
   ],
   "source": [
    "df_pivoted[\"potential_label\"]=LabelEncoder().fit_transform(df_pivoted[\"potential_label\"])\n",
    "df_pivoted.head()"
   ]
  },
  {
   "cell_type": "markdown",
   "id": "123c9955",
   "metadata": {
    "papermill": {
     "duration": 0.011554,
     "end_time": "2024-11-10T11:36:56.515823",
     "exception": false,
     "start_time": "2024-11-10T11:36:56.504269",
     "status": "completed"
    },
    "tags": []
   },
   "source": [
    "# Scale"
   ]
  },
  {
   "cell_type": "code",
   "execution_count": 12,
   "id": "f146e416",
   "metadata": {
    "execution": {
     "iopub.execute_input": "2024-11-10T11:36:56.541908Z",
     "iopub.status.busy": "2024-11-10T11:36:56.541399Z",
     "iopub.status.idle": "2024-11-10T11:36:56.579334Z",
     "shell.execute_reply": "2024-11-10T11:36:56.578212Z"
    },
    "papermill": {
     "duration": 0.054649,
     "end_time": "2024-11-10T11:36:56.582309",
     "exception": false,
     "start_time": "2024-11-10T11:36:56.527660",
     "status": "completed"
    },
    "tags": []
   },
   "outputs": [
    {
     "data": {
      "text/html": [
       "<div>\n",
       "<style scoped>\n",
       "    .dataframe tbody tr th:only-of-type {\n",
       "        vertical-align: middle;\n",
       "    }\n",
       "\n",
       "    .dataframe tbody tr th {\n",
       "        vertical-align: top;\n",
       "    }\n",
       "\n",
       "    .dataframe thead th {\n",
       "        text-align: right;\n",
       "    }\n",
       "</style>\n",
       "<table border=\"1\" class=\"dataframe\">\n",
       "  <thead>\n",
       "    <tr style=\"text-align: right;\">\n",
       "      <th>attribute_id</th>\n",
       "      <th>player_id</th>\n",
       "      <th>position_id</th>\n",
       "      <th>potential_label</th>\n",
       "      <th>4322</th>\n",
       "      <th>4323</th>\n",
       "      <th>4324</th>\n",
       "      <th>4325</th>\n",
       "      <th>4326</th>\n",
       "      <th>4327</th>\n",
       "      <th>4328</th>\n",
       "      <th>4329</th>\n",
       "      <th>4330</th>\n",
       "      <th>4332</th>\n",
       "      <th>4333</th>\n",
       "      <th>4335</th>\n",
       "      <th>4338</th>\n",
       "      <th>4339</th>\n",
       "      <th>4340</th>\n",
       "      <th>4341</th>\n",
       "      <th>4342</th>\n",
       "      <th>4343</th>\n",
       "      <th>4344</th>\n",
       "      <th>4345</th>\n",
       "      <th>4348</th>\n",
       "      <th>4349</th>\n",
       "      <th>4350</th>\n",
       "      <th>4351</th>\n",
       "      <th>4352</th>\n",
       "      <th>4353</th>\n",
       "      <th>4354</th>\n",
       "      <th>4355</th>\n",
       "      <th>4356</th>\n",
       "      <th>4357</th>\n",
       "      <th>4407</th>\n",
       "      <th>4408</th>\n",
       "      <th>4423</th>\n",
       "      <th>4426</th>\n",
       "    </tr>\n",
       "  </thead>\n",
       "  <tbody>\n",
       "    <tr>\n",
       "      <th>0</th>\n",
       "      <td>1355710</td>\n",
       "      <td>7</td>\n",
       "      <td>0</td>\n",
       "      <td>-0.543</td>\n",
       "      <td>-0.559</td>\n",
       "      <td>-1.405</td>\n",
       "      <td>-0.438</td>\n",
       "      <td>-0.767</td>\n",
       "      <td>-0.795</td>\n",
       "      <td>-0.907</td>\n",
       "      <td>-0.792</td>\n",
       "      <td>-0.446</td>\n",
       "      <td>-0.123</td>\n",
       "      <td>-1.224</td>\n",
       "      <td>-1.036</td>\n",
       "      <td>-1.126</td>\n",
       "      <td>-1.009</td>\n",
       "      <td>-0.542</td>\n",
       "      <td>-0.690</td>\n",
       "      <td>-0.535</td>\n",
       "      <td>-1.067</td>\n",
       "      <td>-1.206</td>\n",
       "      <td>-1.005</td>\n",
       "      <td>-1.314</td>\n",
       "      <td>-1.042</td>\n",
       "      <td>-0.693</td>\n",
       "      <td>-0.436</td>\n",
       "      <td>0.013</td>\n",
       "      <td>-1.282</td>\n",
       "      <td>-1.132</td>\n",
       "      <td>-0.495</td>\n",
       "      <td>-1.235</td>\n",
       "      <td>-1.520</td>\n",
       "      <td>-0.143</td>\n",
       "      <td>-1.487</td>\n",
       "      <td>-0.955</td>\n",
       "      <td>-0.253</td>\n",
       "    </tr>\n",
       "    <tr>\n",
       "      <th>1</th>\n",
       "      <td>1356362</td>\n",
       "      <td>9</td>\n",
       "      <td>0</td>\n",
       "      <td>0.595</td>\n",
       "      <td>0.561</td>\n",
       "      <td>0.679</td>\n",
       "      <td>0.683</td>\n",
       "      <td>0.723</td>\n",
       "      <td>0.723</td>\n",
       "      <td>0.601</td>\n",
       "      <td>0.404</td>\n",
       "      <td>0.728</td>\n",
       "      <td>0.691</td>\n",
       "      <td>0.459</td>\n",
       "      <td>0.996</td>\n",
       "      <td>0.632</td>\n",
       "      <td>0.840</td>\n",
       "      <td>0.912</td>\n",
       "      <td>0.799</td>\n",
       "      <td>0.588</td>\n",
       "      <td>1.230</td>\n",
       "      <td>0.750</td>\n",
       "      <td>0.742</td>\n",
       "      <td>0.879</td>\n",
       "      <td>0.670</td>\n",
       "      <td>0.848</td>\n",
       "      <td>0.717</td>\n",
       "      <td>0.787</td>\n",
       "      <td>0.814</td>\n",
       "      <td>1.053</td>\n",
       "      <td>0.632</td>\n",
       "      <td>0.915</td>\n",
       "      <td>0.768</td>\n",
       "      <td>0.530</td>\n",
       "      <td>0.669</td>\n",
       "      <td>0.404</td>\n",
       "      <td>1.042</td>\n",
       "    </tr>\n",
       "    <tr>\n",
       "      <th>2</th>\n",
       "      <td>1356375</td>\n",
       "      <td>3</td>\n",
       "      <td>0</td>\n",
       "      <td>0.595</td>\n",
       "      <td>0.561</td>\n",
       "      <td>0.679</td>\n",
       "      <td>0.683</td>\n",
       "      <td>0.723</td>\n",
       "      <td>0.723</td>\n",
       "      <td>0.601</td>\n",
       "      <td>1.002</td>\n",
       "      <td>0.728</td>\n",
       "      <td>0.691</td>\n",
       "      <td>1.132</td>\n",
       "      <td>0.319</td>\n",
       "      <td>0.632</td>\n",
       "      <td>0.840</td>\n",
       "      <td>0.912</td>\n",
       "      <td>0.799</td>\n",
       "      <td>0.588</td>\n",
       "      <td>0.574</td>\n",
       "      <td>0.750</td>\n",
       "      <td>0.742</td>\n",
       "      <td>0.879</td>\n",
       "      <td>0.670</td>\n",
       "      <td>0.077</td>\n",
       "      <td>0.717</td>\n",
       "      <td>0.787</td>\n",
       "      <td>0.814</td>\n",
       "      <td>1.053</td>\n",
       "      <td>0.632</td>\n",
       "      <td>0.915</td>\n",
       "      <td>0.768</td>\n",
       "      <td>0.530</td>\n",
       "      <td>0.669</td>\n",
       "      <td>0.404</td>\n",
       "      <td>1.042</td>\n",
       "    </tr>\n",
       "    <tr>\n",
       "      <th>3</th>\n",
       "      <td>1356375</td>\n",
       "      <td>4</td>\n",
       "      <td>0</td>\n",
       "      <td>0.595</td>\n",
       "      <td>1.308</td>\n",
       "      <td>0.679</td>\n",
       "      <td>0.683</td>\n",
       "      <td>0.723</td>\n",
       "      <td>1.482</td>\n",
       "      <td>1.355</td>\n",
       "      <td>1.002</td>\n",
       "      <td>-0.055</td>\n",
       "      <td>0.691</td>\n",
       "      <td>0.459</td>\n",
       "      <td>0.996</td>\n",
       "      <td>1.335</td>\n",
       "      <td>1.580</td>\n",
       "      <td>0.185</td>\n",
       "      <td>0.799</td>\n",
       "      <td>0.588</td>\n",
       "      <td>-0.083</td>\n",
       "      <td>0.098</td>\n",
       "      <td>0.043</td>\n",
       "      <td>0.879</td>\n",
       "      <td>1.355</td>\n",
       "      <td>0.848</td>\n",
       "      <td>0.717</td>\n",
       "      <td>1.560</td>\n",
       "      <td>0.814</td>\n",
       "      <td>0.428</td>\n",
       "      <td>0.632</td>\n",
       "      <td>0.198</td>\n",
       "      <td>0.768</td>\n",
       "      <td>-0.143</td>\n",
       "      <td>0.669</td>\n",
       "      <td>-0.276</td>\n",
       "      <td>-0.253</td>\n",
       "    </tr>\n",
       "    <tr>\n",
       "      <th>4</th>\n",
       "      <td>1356411</td>\n",
       "      <td>9</td>\n",
       "      <td>0</td>\n",
       "      <td>0.595</td>\n",
       "      <td>0.561</td>\n",
       "      <td>1.373</td>\n",
       "      <td>1.430</td>\n",
       "      <td>0.723</td>\n",
       "      <td>0.723</td>\n",
       "      <td>0.601</td>\n",
       "      <td>0.404</td>\n",
       "      <td>2.294</td>\n",
       "      <td>1.505</td>\n",
       "      <td>0.459</td>\n",
       "      <td>0.996</td>\n",
       "      <td>0.632</td>\n",
       "      <td>0.101</td>\n",
       "      <td>0.185</td>\n",
       "      <td>0.799</td>\n",
       "      <td>1.337</td>\n",
       "      <td>0.574</td>\n",
       "      <td>0.750</td>\n",
       "      <td>0.742</td>\n",
       "      <td>0.252</td>\n",
       "      <td>1.355</td>\n",
       "      <td>0.077</td>\n",
       "      <td>0.717</td>\n",
       "      <td>0.787</td>\n",
       "      <td>0.115</td>\n",
       "      <td>0.428</td>\n",
       "      <td>0.632</td>\n",
       "      <td>0.198</td>\n",
       "      <td>0.768</td>\n",
       "      <td>1.874</td>\n",
       "      <td>-0.050</td>\n",
       "      <td>1.083</td>\n",
       "      <td>1.042</td>\n",
       "    </tr>\n",
       "  </tbody>\n",
       "</table>\n",
       "</div>"
      ],
      "text/plain": [
       "attribute_id  player_id  position_id  potential_label   4322   4323   4324   4325   4326   4327   4328   4329   4330   4332   4333   4335   4338   4339   4340   4341   4342   4343   4344   4345   4348   4349   4350   4351  4352   4353   4354   4355   4356   4357   4407   4408   4423   4426\n",
       "0               1355710            7                0 -0.543 -0.559 -1.405 -0.438 -0.767 -0.795 -0.907 -0.792 -0.446 -0.123 -1.224 -1.036 -1.126 -1.009 -0.542 -0.690 -0.535 -1.067 -1.206 -1.005 -1.314 -1.042 -0.693 -0.436 0.013 -1.282 -1.132 -0.495 -1.235 -1.520 -0.143 -1.487 -0.955 -0.253\n",
       "1               1356362            9                0  0.595  0.561  0.679  0.683  0.723  0.723  0.601  0.404  0.728  0.691  0.459  0.996  0.632  0.840  0.912  0.799  0.588  1.230  0.750  0.742  0.879  0.670  0.848  0.717 0.787  0.814  1.053  0.632  0.915  0.768  0.530  0.669  0.404  1.042\n",
       "2               1356375            3                0  0.595  0.561  0.679  0.683  0.723  0.723  0.601  1.002  0.728  0.691  1.132  0.319  0.632  0.840  0.912  0.799  0.588  0.574  0.750  0.742  0.879  0.670  0.077  0.717 0.787  0.814  1.053  0.632  0.915  0.768  0.530  0.669  0.404  1.042\n",
       "3               1356375            4                0  0.595  1.308  0.679  0.683  0.723  1.482  1.355  1.002 -0.055  0.691  0.459  0.996  1.335  1.580  0.185  0.799  0.588 -0.083  0.098  0.043  0.879  1.355  0.848  0.717 1.560  0.814  0.428  0.632  0.198  0.768 -0.143  0.669 -0.276 -0.253\n",
       "4               1356411            9                0  0.595  0.561  1.373  1.430  0.723  0.723  0.601  0.404  2.294  1.505  0.459  0.996  0.632  0.101  0.185  0.799  1.337  0.574  0.750  0.742  0.252  1.355  0.077  0.717 0.787  0.115  0.428  0.632  0.198  0.768  1.874 -0.050  1.083  1.042"
      ]
     },
     "execution_count": 12,
     "metadata": {},
     "output_type": "execute_result"
    }
   ],
   "source": [
    "df_pivoted[num_cols]=StandardScaler().fit_transform(df_pivoted[num_cols])\n",
    "df_pivoted.head()"
   ]
  },
  {
   "cell_type": "markdown",
   "id": "938a446f",
   "metadata": {
    "papermill": {
     "duration": 0.012295,
     "end_time": "2024-11-10T11:36:56.607116",
     "exception": false,
     "start_time": "2024-11-10T11:36:56.594821",
     "status": "completed"
    },
    "tags": []
   },
   "source": [
    "# Modelling"
   ]
  },
  {
   "cell_type": "code",
   "execution_count": 13,
   "id": "68d6dd01",
   "metadata": {
    "execution": {
     "iopub.execute_input": "2024-11-10T11:36:56.633935Z",
     "iopub.status.busy": "2024-11-10T11:36:56.633104Z",
     "iopub.status.idle": "2024-11-10T11:36:56.641822Z",
     "shell.execute_reply": "2024-11-10T11:36:56.640452Z"
    },
    "papermill": {
     "duration": 0.025663,
     "end_time": "2024-11-10T11:36:56.645065",
     "exception": false,
     "start_time": "2024-11-10T11:36:56.619402",
     "status": "completed"
    },
    "tags": []
   },
   "outputs": [],
   "source": [
    "y=df_pivoted[\"potential_label\"]\n",
    "X=df_pivoted.drop([\"potential_label\", \"player_id\"],  axis=1)"
   ]
  },
  {
   "cell_type": "code",
   "execution_count": 14,
   "id": "01dcaa9a",
   "metadata": {
    "execution": {
     "iopub.execute_input": "2024-11-10T11:36:56.672509Z",
     "iopub.status.busy": "2024-11-10T11:36:56.672082Z",
     "iopub.status.idle": "2024-11-10T11:36:56.680797Z",
     "shell.execute_reply": "2024-11-10T11:36:56.679575Z"
    },
    "papermill": {
     "duration": 0.025166,
     "end_time": "2024-11-10T11:36:56.683426",
     "exception": false,
     "start_time": "2024-11-10T11:36:56.658260",
     "status": "completed"
    },
    "tags": []
   },
   "outputs": [],
   "source": [
    "def base_models(X, y, scoring=\"roc_auc\"):\n",
    "    print(\"Base Models....\")\n",
    "    models = [('LR', LogisticRegression()),\n",
    "          (\"KNN\", KNeighborsClassifier()),\n",
    "          (\"CART\", DecisionTreeClassifier()),\n",
    "          (\"RF\", RandomForestClassifier()),\n",
    "          ('GBM', GradientBoostingClassifier()),\n",
    "          ('XGBoost', XGBClassifier(use_label_encoder=False, eval_metric='logloss')),\n",
    "          ('CatBoost', CatBoostClassifier(verbose=False))\n",
    "             ]\n",
    "\n",
    "    for name, classifier in models:\n",
    "        cv_results = cross_validate(classifier, X, y, cv=3, scoring=scoring)\n",
    "        print(f\"{scoring}: {round(cv_results['test_score'].mean(), 4)} ({name}) \")"
   ]
  },
  {
   "cell_type": "code",
   "execution_count": 15,
   "id": "1acf7271",
   "metadata": {
    "execution": {
     "iopub.execute_input": "2024-11-10T11:36:56.710080Z",
     "iopub.status.busy": "2024-11-10T11:36:56.709589Z",
     "iopub.status.idle": "2024-11-10T11:37:01.737950Z",
     "shell.execute_reply": "2024-11-10T11:37:01.736649Z"
    },
    "papermill": {
     "duration": 5.044978,
     "end_time": "2024-11-10T11:37:01.740634",
     "exception": false,
     "start_time": "2024-11-10T11:36:56.695656",
     "status": "completed"
    },
    "tags": []
   },
   "outputs": [
    {
     "name": "stdout",
     "output_type": "stream",
     "text": [
      "Base Models....\n",
      "roc_auc: 0.8177 (LR) \n",
      "roc_auc: 0.6914 (KNN) \n",
      "roc_auc: 0.6961 (CART) \n",
      "roc_auc: 0.8837 (RF) \n",
      "roc_auc: 0.8645 (GBM) \n",
      "roc_auc: 0.8544 (XGBoost) \n",
      "roc_auc: 0.8924 (CatBoost) \n"
     ]
    }
   ],
   "source": [
    "base_models(X,y)"
   ]
  },
  {
   "cell_type": "code",
   "execution_count": 16,
   "id": "2371574c",
   "metadata": {
    "execution": {
     "iopub.execute_input": "2024-11-10T11:37:01.769014Z",
     "iopub.status.busy": "2024-11-10T11:37:01.767984Z",
     "iopub.status.idle": "2024-11-10T11:37:06.614563Z",
     "shell.execute_reply": "2024-11-10T11:37:06.612784Z"
    },
    "papermill": {
     "duration": 4.863732,
     "end_time": "2024-11-10T11:37:06.617292",
     "exception": false,
     "start_time": "2024-11-10T11:37:01.753560",
     "status": "completed"
    },
    "tags": []
   },
   "outputs": [
    {
     "name": "stdout",
     "output_type": "stream",
     "text": [
      "Base Models....\n",
      "f1: 0.537 (LR) \n",
      "f1: 0.3457 (KNN) \n",
      "f1: 0.4872 (CART) \n",
      "f1: 0.6249 (RF) \n",
      "f1: 0.6153 (GBM) \n",
      "f1: 0.5865 (XGBoost) \n",
      "f1: 0.6066 (CatBoost) \n"
     ]
    }
   ],
   "source": [
    "base_models(X,y,scoring=\"f1\")"
   ]
  },
  {
   "cell_type": "code",
   "execution_count": 17,
   "id": "a9425b01",
   "metadata": {
    "execution": {
     "iopub.execute_input": "2024-11-10T11:37:06.646330Z",
     "iopub.status.busy": "2024-11-10T11:37:06.645501Z",
     "iopub.status.idle": "2024-11-10T11:37:11.440350Z",
     "shell.execute_reply": "2024-11-10T11:37:11.439237Z"
    },
    "papermill": {
     "duration": 4.81193,
     "end_time": "2024-11-10T11:37:11.442796",
     "exception": false,
     "start_time": "2024-11-10T11:37:06.630866",
     "status": "completed"
    },
    "tags": []
   },
   "outputs": [
    {
     "name": "stdout",
     "output_type": "stream",
     "text": [
      "Base Models....\n",
      "recall: 0.4454 (LR) \n",
      "recall: 0.2154 (KNN) \n",
      "recall: 0.4639 (CART) \n",
      "recall: 0.4288 (RF) \n",
      "recall: 0.5175 (GBM) \n",
      "recall: 0.5156 (XGBoost) \n",
      "recall: 0.4805 (CatBoost) \n"
     ]
    }
   ],
   "source": [
    "base_models(X,y,scoring=\"recall\")"
   ]
  },
  {
   "cell_type": "code",
   "execution_count": 18,
   "id": "11c73459",
   "metadata": {
    "execution": {
     "iopub.execute_input": "2024-11-10T11:37:11.473257Z",
     "iopub.status.busy": "2024-11-10T11:37:11.472374Z",
     "iopub.status.idle": "2024-11-10T11:37:16.255530Z",
     "shell.execute_reply": "2024-11-10T11:37:16.254190Z"
    },
    "papermill": {
     "duration": 4.80123,
     "end_time": "2024-11-10T11:37:16.258193",
     "exception": false,
     "start_time": "2024-11-10T11:37:11.456963",
     "status": "completed"
    },
    "tags": []
   },
   "outputs": [
    {
     "name": "stdout",
     "output_type": "stream",
     "text": [
      "Base Models....\n",
      "accuracy: 0.8486 (LR) \n",
      "accuracy: 0.8339 (KNN) \n",
      "accuracy: 0.8193 (CART) \n",
      "accuracy: 0.8598 (RF) \n",
      "accuracy: 0.8597 (GBM) \n",
      "accuracy: 0.8524 (XGBoost) \n",
      "accuracy: 0.8744 (CatBoost) \n"
     ]
    }
   ],
   "source": [
    "base_models(X, y, scoring=\"accuracy\")"
   ]
  },
  {
   "cell_type": "code",
   "execution_count": 19,
   "id": "fbdd1f6b",
   "metadata": {
    "execution": {
     "iopub.execute_input": "2024-11-10T11:37:16.289486Z",
     "iopub.status.busy": "2024-11-10T11:37:16.288682Z",
     "iopub.status.idle": "2024-11-10T11:37:21.070284Z",
     "shell.execute_reply": "2024-11-10T11:37:21.069125Z"
    },
    "papermill": {
     "duration": 4.800275,
     "end_time": "2024-11-10T11:37:21.073201",
     "exception": false,
     "start_time": "2024-11-10T11:37:16.272926",
     "status": "completed"
    },
    "tags": []
   },
   "outputs": [
    {
     "name": "stdout",
     "output_type": "stream",
     "text": [
      "Base Models....\n",
      "precision: 0.7331 (LR) \n",
      "precision: 0.9444 (KNN) \n",
      "precision: 0.5651 (CART) \n",
      "precision: 0.9333 (RF) \n",
      "precision: 0.7257 (GBM) \n",
      "precision: 0.7004 (XGBoost) \n",
      "precision: 0.8524 (CatBoost) \n"
     ]
    }
   ],
   "source": [
    "base_models(X, y, scoring=\"precision\")"
   ]
  },
  {
   "cell_type": "markdown",
   "id": "d437735d",
   "metadata": {
    "papermill": {
     "duration": 0.014733,
     "end_time": "2024-11-10T11:37:21.103082",
     "exception": false,
     "start_time": "2024-11-10T11:37:21.088349",
     "status": "completed"
    },
    "tags": []
   },
   "source": [
    "# Hyperparameter Optimization"
   ]
  },
  {
   "cell_type": "code",
   "execution_count": 20,
   "id": "921afc03",
   "metadata": {
    "execution": {
     "iopub.execute_input": "2024-11-10T11:37:21.135412Z",
     "iopub.status.busy": "2024-11-10T11:37:21.134447Z",
     "iopub.status.idle": "2024-11-10T11:37:36.710404Z",
     "shell.execute_reply": "2024-11-10T11:37:36.709110Z"
    },
    "papermill": {
     "duration": 15.595471,
     "end_time": "2024-11-10T11:37:36.713504",
     "exception": false,
     "start_time": "2024-11-10T11:37:21.118033",
     "status": "completed"
    },
    "tags": []
   },
   "outputs": [],
   "source": [
    "catboost_model = CatBoostClassifier(random_state=17, verbose=False)\n",
    "catboost_params = {\"iterations\": [200, 500],\n",
    "                   \"learning_rate\": [0.01, 0.1],\n",
    "                   \"depth\": [3, 6]}\n",
    "catboost_grid = GridSearchCV(catboost_model, catboost_params, cv=5, n_jobs=-1, verbose=False).fit(X, y)\n",
    "catboost_final = catboost_model.set_params(**catboost_grid.best_params_, random_state=17).fit(X, y)"
   ]
  },
  {
   "cell_type": "code",
   "execution_count": 21,
   "id": "a01d4994",
   "metadata": {
    "execution": {
     "iopub.execute_input": "2024-11-10T11:37:36.745233Z",
     "iopub.status.busy": "2024-11-10T11:37:36.744752Z",
     "iopub.status.idle": "2024-11-10T11:37:39.901031Z",
     "shell.execute_reply": "2024-11-10T11:37:39.899241Z"
    },
    "papermill": {
     "duration": 3.175211,
     "end_time": "2024-11-10T11:37:39.903692",
     "exception": false,
     "start_time": "2024-11-10T11:37:36.728481",
     "status": "completed"
    },
    "tags": []
   },
   "outputs": [
    {
     "name": "stdout",
     "output_type": "stream",
     "text": [
      "0.8930639730639731\n",
      "0.6860566448801743\n",
      "0.8938336856941509\n",
      "0.8933333333333333\n"
     ]
    }
   ],
   "source": [
    "cv_results = cross_validate(catboost_final, X, y, cv=5, scoring=[\"accuracy\", \"f1\", \"roc_auc\", \"precision\"])\n",
    "\n",
    "print(cv_results['test_accuracy'].mean())\n",
    "print(cv_results['test_f1'].mean() )\n",
    "print(cv_results['test_roc_auc'].mean())\n",
    "print(cv_results['test_precision'].mean() )"
   ]
  },
  {
   "cell_type": "markdown",
   "id": "a249d60d",
   "metadata": {
    "papermill": {
     "duration": 0.014685,
     "end_time": "2024-11-10T11:37:39.933445",
     "exception": false,
     "start_time": "2024-11-10T11:37:39.918760",
     "status": "completed"
    },
    "tags": []
   },
   "source": [
    "# Feature Importance"
   ]
  },
  {
   "cell_type": "code",
   "execution_count": 22,
   "id": "a5cdf4c8",
   "metadata": {
    "execution": {
     "iopub.execute_input": "2024-11-10T11:37:39.965472Z",
     "iopub.status.busy": "2024-11-10T11:37:39.965006Z",
     "iopub.status.idle": "2024-11-10T11:37:40.895851Z",
     "shell.execute_reply": "2024-11-10T11:37:40.894496Z"
    },
    "papermill": {
     "duration": 0.950095,
     "end_time": "2024-11-10T11:37:40.898624",
     "exception": false,
     "start_time": "2024-11-10T11:37:39.948529",
     "status": "completed"
    },
    "tags": []
   },
   "outputs": [
    {
     "data": {
      "image/png": "[encoded data removed]",
      "text/plain": [
       "<Figure size 1000x1000 with 1 Axes>"
      ]
     },
     "metadata": {},
     "output_type": "display_data"
    }
   ],
   "source": [
    "def plot_importance(model, features, num=len(X), save=False):\n",
    "    feature_imp = pd.DataFrame({'Value': model.feature_importances_, 'Feature': features.columns})\n",
    "    plt.figure(figsize=(10, 10))\n",
    "    sns.set(font_scale=1)\n",
    "    sns.barplot(x=\"Value\", y=\"Feature\", data=feature_imp.sort_values(by=\"Value\",\n",
    "                                                                     ascending=False)[0:num])\n",
    "    plt.title('Features')\n",
    "    plt.tight_layout()\n",
    "    plt.show()\n",
    "    if save:\n",
    "        plt.savefig('importances.png')\n",
    "\n",
    "plot_importance(catboost_final, X)"
   ]
  }
 ],
 "metadata": {
  "kaggle": {
   "accelerator": "none",
   "dataSources": [
    {
     "datasetId": 5972664,
     "sourceId": 9754696,
     "sourceType": "datasetVersion"
    }
   ],
   "dockerImageVersionId": 30786,
   "isGpuEnabled": false,
   "isInternetEnabled": true,
   "language": "python",
   "sourceType": "notebook"
  },
  "kernelspec": {
   "display_name": "Python 3",
   "language": "python",
   "name": "python3"
  },
  "language_info": {
   "codemirror_mode": {
    "name": "ipython",
    "version": 3
   },
   "file_extension": ".py",
   "mimetype": "text/x-python",
   "name": "python",
   "nbconvert_exporter": "python",
   "pygments_lexer": "ipython3",
   "version": "3.10.14"
  },
  "papermill": {
   "default_parameters": {},
   "duration": 55.146476,
   "end_time": "2024-11-10T11:37:41.838673",
   "environment_variables": {},
   "exception": null,
   "input_path": "__notebook__.ipynb",
   "output_path": "__notebook__.ipynb",
   "parameters": {},
   "start_time": "2024-11-10T11:36:46.692197",
   "version": "2.6.0"
  }
 },
 "nbformat": 4,
 "nbformat_minor": 5
}
